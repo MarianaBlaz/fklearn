{
 "cells": [
  {
   "cell_type": "code",
   "execution_count": 1,
   "metadata": {},
   "outputs": [],
   "source": [
    "import numpy as np\n",
    "import pandas as pd\n",
    "\n",
    "from fklearn.causal.effects import linear_effect\n",
    "from fklearn.causal.validation.curves import cumulative_effect_curve"
   ]
  },
  {
   "cell_type": "code",
   "execution_count": 2,
   "metadata": {},
   "outputs": [],
   "source": [
    "from typing import Any, List\n",
    "\n",
    "from toolz import curry\n",
    "from fklearn.types import EffectFnType"
   ]
  },
  {
   "cell_type": "code",
   "execution_count": 3,
   "metadata": {},
   "outputs": [],
   "source": [
    "df = pd.DataFrame(dict(\n",
    "    t=[1, 1, 1, 2, 2, 2, 3, 3, 3],\n",
    "    x=[1, 2, 3, 1, 2, 3, 1, 2, 3],\n",
    "    y=[1, 1, 1, 2, 3, 4, 3, 5, 7],\n",
    "))\n",
    "\n",
    "result = cumulative_effect_curve(df, prediction=\"x\", outcome=\"y\", treatment=\"t\", min_rows=3, steps=df.shape[0],\n",
    "                                 effect_fn=linear_effect)"
   ]
  },
  {
   "cell_type": "code",
   "execution_count": 4,
   "metadata": {},
   "outputs": [
    {
     "data": {
      "text/plain": [
       "array([3.        , 3.        , 2.92857143, 2.5       , 2.5       ,\n",
       "       2.46153846, 2.        ])"
      ]
     },
     "execution_count": 4,
     "metadata": {},
     "output_type": "execute_result"
    }
   ],
   "source": [
    "result"
   ]
  },
  {
   "cell_type": "code",
   "execution_count": 9,
   "metadata": {},
   "outputs": [],
   "source": [
    "# def linear_ci(df, y, t, z=1.96):\n",
    "#     n = df.shape[0]\n",
    "#     t_bar = df[t].mean()\n",
    "#     beta1 = linear_effect(df, y, t)\n",
    "#     beta0 = df[y].mean() - beta1 * t_bar\n",
    "#     e = df[y] - (beta0 + beta1*df[t])\n",
    "#     se = np.sqrt(((1/(n-2))*np.sum(e**2))/np.sum((df[t]-t_bar)**2))\n",
    "#     return np.array([beta1 - z*se, beta1 + z*se])\n",
    "\n",
    "def linear_ci(df, t, y):\n",
    "    n = df.shape[0]\n",
    "    t_bar = df[t].mean()\n",
    "    beta1 = linear_effect(df, t, y)\n",
    "    beta0 = df[y].mean() - beta1 * t_bar\n",
    "    e = df[y] - (beta0 + beta1*df[t])\n",
    "    se = np.sqrt(((1/(n-2))*np.sum(e**2))/np.sum((df[t]-t_bar)**2))\n",
    "    return se"
   ]
  },
  {
   "cell_type": "code",
   "execution_count": 10,
   "metadata": {},
   "outputs": [
    {
     "data": {
      "text/plain": [
       "0.0"
      ]
     },
     "execution_count": 10,
     "metadata": {},
     "output_type": "execute_result"
    }
   ],
   "source": [
    "linear_ci(ordered_df.head(3), \"t\", \"y\")"
   ]
  },
  {
   "cell_type": "code",
   "execution_count": 7,
   "metadata": {},
   "outputs": [
    {
     "data": {
      "text/html": [
       "<div>\n",
       "<style scoped>\n",
       "    .dataframe tbody tr th:only-of-type {\n",
       "        vertical-align: middle;\n",
       "    }\n",
       "\n",
       "    .dataframe tbody tr th {\n",
       "        vertical-align: top;\n",
       "    }\n",
       "\n",
       "    .dataframe thead th {\n",
       "        text-align: right;\n",
       "    }\n",
       "</style>\n",
       "<table border=\"1\" class=\"dataframe\">\n",
       "  <thead>\n",
       "    <tr style=\"text-align: right;\">\n",
       "      <th></th>\n",
       "      <th>t</th>\n",
       "      <th>x</th>\n",
       "      <th>y</th>\n",
       "    </tr>\n",
       "  </thead>\n",
       "  <tbody>\n",
       "    <tr>\n",
       "      <th>2</th>\n",
       "      <td>1</td>\n",
       "      <td>3</td>\n",
       "      <td>1</td>\n",
       "    </tr>\n",
       "    <tr>\n",
       "      <th>5</th>\n",
       "      <td>2</td>\n",
       "      <td>3</td>\n",
       "      <td>4</td>\n",
       "    </tr>\n",
       "    <tr>\n",
       "      <th>8</th>\n",
       "      <td>3</td>\n",
       "      <td>3</td>\n",
       "      <td>7</td>\n",
       "    </tr>\n",
       "  </tbody>\n",
       "</table>\n",
       "</div>"
      ],
      "text/plain": [
       "   t  x  y\n",
       "2  1  3  1\n",
       "5  2  3  4\n",
       "8  3  3  7"
      ]
     },
     "execution_count": 7,
     "metadata": {},
     "output_type": "execute_result"
    }
   ],
   "source": [
    "ordered_df = df.sort_values(by=\"x\", ascending=False)\n",
    "ordered_df.head(3)"
   ]
  },
  {
   "cell_type": "code",
   "execution_count": 11,
   "metadata": {},
   "outputs": [],
   "source": [
    "\n",
    "def confidence_interval_curve(\n",
    "    df: pd.DataFrame,\n",
    "    treatment: str,\n",
    "    outcome: str,\n",
    "    prediction: str,\n",
    "    min_rows: int = 30,\n",
    "    steps: int = 100,\n",
    "    error_fn: EffectFnType = linear_standard_error,\n",
    "    **kwargs,\n",
    ") -> np.ndarray:\n",
    "    \n",
    "    size = df.shape[0]\n",
    "    ordered_df = df.sort_values(prediction, ascending=False).reset_index(drop=True)\n",
    "    n_rows = list(range(min_rows, size, size // steps)) + [size]\n",
    "    \n",
    "    return np.array([error_fn(ordered_df.head(rows), treatment, outcome, **kwargs) for rows in n_rows])"
   ]
  },
  {
   "cell_type": "code",
   "execution_count": 19,
   "metadata": {},
   "outputs": [],
   "source": [
    "@curry\n",
    "def effect_curves(\n",
    "    df: pd.DataFrame,\n",
    "    treatment: str,\n",
    "    outcome: str,\n",
    "    prediction: str,\n",
    "    min_rows: int = 30,\n",
    "    steps: int = 100,\n",
    "    effect_fn: EffectFnType = linear_effect,\n",
    "    error_fn: EffectFnType = None,\n",
    "    **kwargs,\n",
    ") -> pd.DataFrame:\n",
    "\n",
    "    size: int = df.shape[0]\n",
    "    n_rows: List[int] = list(range(min_rows, size, size // steps)) + [size]\n",
    "\n",
    "    cum_effect: np.ndarray = cumulative_effect_curve(\n",
    "        df=df,\n",
    "        treatment=treatment,\n",
    "        outcome=outcome,\n",
    "        prediction=prediction,\n",
    "        min_rows=min_rows,\n",
    "        steps=steps,\n",
    "        effect_fn=effect_fn,\n",
    "    )\n",
    "    ate: float = cum_effect[-1]\n",
    "    \n",
    "    effect_curves = pd.DataFrame({\"samples_count\": n_rows, \"cumulative_effect_curve\": cum_effect}).assign(\n",
    "        samples_fraction=lambda x: x[\"samples_count\"] / size,\n",
    "        cumulative_gain_curve=lambda x: x[\"samples_fraction\"] * x[\"cumulative_effect_curve\"],\n",
    "        random_model_cumulative_gain_curve=lambda x: x[\"samples_fraction\"] * ate,\n",
    "        relative_cumulative_gain_curve=lambda x: (\n",
    "            x[\"samples_fraction\"] * x[\"cumulative_effect_curve\"] - x[\"random_model_cumulative_gain_curve\"]\n",
    "        ),\n",
    "    )\n",
    "    \n",
    "    if ci_fn is not None:\n",
    "        \n",
    "        effect_errors: np.ndarray = confidence_interval_curve(\n",
    "            df=df,\n",
    "            treatment=treatment,\n",
    "            outcome=outcome,\n",
    "            prediction=prediction,\n",
    "            min_rows=min_rows,\n",
    "            steps=steps,\n",
    "            error_fn=error_fn,\n",
    "            **kwargs,\n",
    "        )\n",
    "        \n",
    "        effect_curves = effect_curves.assign(\n",
    "            cumulative_effect_curve_error=effect_errors,\n",
    "            cumulative_gain_curve_error=lambda x: x[\"samples_fraction\"] * x[\"cumulative_effect_curve_error\"],\n",
    "        )\n",
    "\n",
    "    return effect_curves\n"
   ]
  },
  {
   "cell_type": "code",
   "execution_count": 13,
   "metadata": {},
   "outputs": [],
   "source": [
    "df = pd.DataFrame(dict(\n",
    "    t=[1, 1, 1, 2, 2, 2, 3, 3, 3],\n",
    "    x=[1, 2, 3, 1, 2, 3, 1, 2, 3],\n",
    "    y=[1, 1, 1, 2, 3, 4, 3, 5, 7],\n",
    "))"
   ]
  },
  {
   "cell_type": "code",
   "execution_count": 24,
   "metadata": {},
   "outputs": [
    {
     "data": {
      "text/html": [
       "<div>\n",
       "<style scoped>\n",
       "    .dataframe tbody tr th:only-of-type {\n",
       "        vertical-align: middle;\n",
       "    }\n",
       "\n",
       "    .dataframe tbody tr th {\n",
       "        vertical-align: top;\n",
       "    }\n",
       "\n",
       "    .dataframe thead th {\n",
       "        text-align: right;\n",
       "    }\n",
       "</style>\n",
       "<table border=\"1\" class=\"dataframe\">\n",
       "  <thead>\n",
       "    <tr style=\"text-align: right;\">\n",
       "      <th></th>\n",
       "      <th>samples_count</th>\n",
       "      <th>cumulative_effect_curve</th>\n",
       "      <th>samples_fraction</th>\n",
       "      <th>cumulative_gain_curve</th>\n",
       "      <th>random_model_cumulative_gain_curve</th>\n",
       "      <th>relative_cumulative_gain_curve</th>\n",
       "      <th>cumulative_effect_curve_error</th>\n",
       "      <th>cumulative_gain_curve_error</th>\n",
       "    </tr>\n",
       "  </thead>\n",
       "  <tbody>\n",
       "    <tr>\n",
       "      <th>0</th>\n",
       "      <td>3</td>\n",
       "      <td>3.000000</td>\n",
       "      <td>0.333333</td>\n",
       "      <td>1.000000</td>\n",
       "      <td>0.666667</td>\n",
       "      <td>0.333333</td>\n",
       "      <td>0.000000</td>\n",
       "      <td>0.000000</td>\n",
       "    </tr>\n",
       "    <tr>\n",
       "      <th>1</th>\n",
       "      <td>4</td>\n",
       "      <td>3.000000</td>\n",
       "      <td>0.444444</td>\n",
       "      <td>1.333333</td>\n",
       "      <td>0.888889</td>\n",
       "      <td>0.444444</td>\n",
       "      <td>0.000000</td>\n",
       "      <td>0.000000</td>\n",
       "    </tr>\n",
       "    <tr>\n",
       "      <th>2</th>\n",
       "      <td>5</td>\n",
       "      <td>2.928571</td>\n",
       "      <td>0.555556</td>\n",
       "      <td>1.626984</td>\n",
       "      <td>1.111111</td>\n",
       "      <td>0.515873</td>\n",
       "      <td>0.599444</td>\n",
       "      <td>0.333025</td>\n",
       "    </tr>\n",
       "    <tr>\n",
       "      <th>3</th>\n",
       "      <td>6</td>\n",
       "      <td>2.500000</td>\n",
       "      <td>0.666667</td>\n",
       "      <td>1.666667</td>\n",
       "      <td>1.333333</td>\n",
       "      <td>0.333333</td>\n",
       "      <td>0.774758</td>\n",
       "      <td>0.516505</td>\n",
       "    </tr>\n",
       "    <tr>\n",
       "      <th>4</th>\n",
       "      <td>7</td>\n",
       "      <td>2.500000</td>\n",
       "      <td>0.777778</td>\n",
       "      <td>1.944444</td>\n",
       "      <td>1.555556</td>\n",
       "      <td>0.388889</td>\n",
       "      <td>0.628855</td>\n",
       "      <td>0.489110</td>\n",
       "    </tr>\n",
       "    <tr>\n",
       "      <th>5</th>\n",
       "      <td>8</td>\n",
       "      <td>2.461538</td>\n",
       "      <td>0.888889</td>\n",
       "      <td>2.188034</td>\n",
       "      <td>1.777778</td>\n",
       "      <td>0.410256</td>\n",
       "      <td>0.765483</td>\n",
       "      <td>0.680429</td>\n",
       "    </tr>\n",
       "    <tr>\n",
       "      <th>6</th>\n",
       "      <td>9</td>\n",
       "      <td>2.000000</td>\n",
       "      <td>1.000000</td>\n",
       "      <td>2.000000</td>\n",
       "      <td>2.000000</td>\n",
       "      <td>0.000000</td>\n",
       "      <td>0.956382</td>\n",
       "      <td>0.956382</td>\n",
       "    </tr>\n",
       "  </tbody>\n",
       "</table>\n",
       "</div>"
      ],
      "text/plain": [
       "   samples_count  cumulative_effect_curve  samples_fraction  \\\n",
       "0              3                 3.000000          0.333333   \n",
       "1              4                 3.000000          0.444444   \n",
       "2              5                 2.928571          0.555556   \n",
       "3              6                 2.500000          0.666667   \n",
       "4              7                 2.500000          0.777778   \n",
       "5              8                 2.461538          0.888889   \n",
       "6              9                 2.000000          1.000000   \n",
       "\n",
       "   cumulative_gain_curve  random_model_cumulative_gain_curve  \\\n",
       "0               1.000000                            0.666667   \n",
       "1               1.333333                            0.888889   \n",
       "2               1.626984                            1.111111   \n",
       "3               1.666667                            1.333333   \n",
       "4               1.944444                            1.555556   \n",
       "5               2.188034                            1.777778   \n",
       "6               2.000000                            2.000000   \n",
       "\n",
       "   relative_cumulative_gain_curve  cumulative_effect_curve_error  \\\n",
       "0                        0.333333                       0.000000   \n",
       "1                        0.444444                       0.000000   \n",
       "2                        0.515873                       0.599444   \n",
       "3                        0.333333                       0.774758   \n",
       "4                        0.388889                       0.628855   \n",
       "5                        0.410256                       0.765483   \n",
       "6                        0.000000                       0.956382   \n",
       "\n",
       "   cumulative_gain_curve_error  \n",
       "0                     0.000000  \n",
       "1                     0.000000  \n",
       "2                     0.333025  \n",
       "3                     0.516505  \n",
       "4                     0.489110  \n",
       "5                     0.680429  \n",
       "6                     0.956382  "
      ]
     },
     "execution_count": 24,
     "metadata": {},
     "output_type": "execute_result"
    }
   ],
   "source": [
    "effect_curves(\n",
    "    df=df,\n",
    "    treatment=\"t\",\n",
    "    outcome=\"y\",\n",
    "    prediction=\"x\",\n",
    "    min_rows = 3,\n",
    "    steps = df.shape[0],\n",
    "    effect_fn = linear_effect,\n",
    "    ci_fn = linear_ci,\n",
    "    z = 1.96\n",
    ")"
   ]
  },
  {
   "cell_type": "code",
   "execution_count": 64,
   "metadata": {},
   "outputs": [
    {
     "data": {
      "text/html": [
       "<div>\n",
       "<style scoped>\n",
       "    .dataframe tbody tr th:only-of-type {\n",
       "        vertical-align: middle;\n",
       "    }\n",
       "\n",
       "    .dataframe tbody tr th {\n",
       "        vertical-align: top;\n",
       "    }\n",
       "\n",
       "    .dataframe thead th {\n",
       "        text-align: right;\n",
       "    }\n",
       "</style>\n",
       "<table border=\"1\" class=\"dataframe\">\n",
       "  <thead>\n",
       "    <tr style=\"text-align: right;\">\n",
       "      <th></th>\n",
       "      <th>t</th>\n",
       "      <th>x</th>\n",
       "      <th>y</th>\n",
       "    </tr>\n",
       "  </thead>\n",
       "  <tbody>\n",
       "    <tr>\n",
       "      <th>0</th>\n",
       "      <td>1</td>\n",
       "      <td>1</td>\n",
       "      <td>1</td>\n",
       "    </tr>\n",
       "    <tr>\n",
       "      <th>3</th>\n",
       "      <td>2</td>\n",
       "      <td>1</td>\n",
       "      <td>2</td>\n",
       "    </tr>\n",
       "    <tr>\n",
       "      <th>6</th>\n",
       "      <td>3</td>\n",
       "      <td>1</td>\n",
       "      <td>3</td>\n",
       "    </tr>\n",
       "    <tr>\n",
       "      <th>1</th>\n",
       "      <td>1</td>\n",
       "      <td>2</td>\n",
       "      <td>1</td>\n",
       "    </tr>\n",
       "    <tr>\n",
       "      <th>4</th>\n",
       "      <td>2</td>\n",
       "      <td>2</td>\n",
       "      <td>3</td>\n",
       "    </tr>\n",
       "    <tr>\n",
       "      <th>7</th>\n",
       "      <td>3</td>\n",
       "      <td>2</td>\n",
       "      <td>5</td>\n",
       "    </tr>\n",
       "    <tr>\n",
       "      <th>2</th>\n",
       "      <td>1</td>\n",
       "      <td>3</td>\n",
       "      <td>1</td>\n",
       "    </tr>\n",
       "    <tr>\n",
       "      <th>5</th>\n",
       "      <td>2</td>\n",
       "      <td>3</td>\n",
       "      <td>4</td>\n",
       "    </tr>\n",
       "    <tr>\n",
       "      <th>8</th>\n",
       "      <td>3</td>\n",
       "      <td>3</td>\n",
       "      <td>7</td>\n",
       "    </tr>\n",
       "  </tbody>\n",
       "</table>\n",
       "</div>"
      ],
      "text/plain": [
       "   t  x  y\n",
       "0  1  1  1\n",
       "3  2  1  2\n",
       "6  3  1  3\n",
       "1  1  2  1\n",
       "4  2  2  3\n",
       "7  3  2  5\n",
       "2  1  3  1\n",
       "5  2  3  4\n",
       "8  3  3  7"
      ]
     },
     "execution_count": 64,
     "metadata": {},
     "output_type": "execute_result"
    }
   ],
   "source": [
    "df.sort_values(by=\"x\", ascending=True)"
   ]
  },
  {
   "cell_type": "code",
   "execution_count": 16,
   "metadata": {},
   "outputs": [
    {
     "data": {
      "text/plain": [
       "array([0.        , 0.        , 0.59944419, 0.77475803, 0.62885517,\n",
       "       0.76548284, 0.95638207])"
      ]
     },
     "execution_count": 16,
     "metadata": {},
     "output_type": "execute_result"
    }
   ],
   "source": [
    "cumulative_elast_curve_ci(\n",
    "    dataset=df,\n",
    "    prediction=\"x\",\n",
    "    y=\"y\",\n",
    "    t=\"t\",\n",
    "    min_periods=3,\n",
    "    steps=df.shape[0]\n",
    ")"
   ]
  },
  {
   "cell_type": "code",
   "execution_count": 17,
   "metadata": {},
   "outputs": [
    {
     "data": {
      "text/plain": [
       "0.35294117647058826"
      ]
     },
     "execution_count": 17,
     "metadata": {},
     "output_type": "execute_result"
    }
   ],
   "source": [
    "linear_effect(df, \"y\", \"t\")"
   ]
  },
  {
   "cell_type": "code",
   "execution_count": 14,
   "metadata": {},
   "outputs": [],
   "source": [
    "def elast_ci(df, y, t, z=1.96):\n",
    "    n = df.shape[0]\n",
    "    t_bar = df[t].mean()\n",
    "#     beta1 = elast(df, y, t)\n",
    "    beta1 = linear_effect(df, t, y)\n",
    "    beta0 = df[y].mean() - beta1 * t_bar\n",
    "    e = df[y] - (beta0 + beta1*df[t])\n",
    "    se = np.sqrt(((1/(n-2))*np.sum(e**2))/np.sum((df[t]-t_bar)**2))\n",
    "#     return np.array([beta1 - z*se, beta1 + z*se])\n",
    "    return z*se\n",
    "\n",
    "@curry\n",
    "def elast(data, y, t):\n",
    "        # line coeficient for the one variable linear regression\n",
    "        return (np.sum((data[t] - data[t].mean())*(data[y] - data[y].mean())) /\n",
    "                np.sum((data[t] - data[t].mean())**2))"
   ]
  },
  {
   "cell_type": "code",
   "execution_count": 18,
   "metadata": {},
   "outputs": [],
   "source": [
    "def cumulative_elast_curve_ci(dataset, prediction, y, t, min_periods=30, steps=100):\n",
    "    size = dataset.shape[0]\n",
    "    ordered_df = dataset.sort_values(prediction, ascending=False).reset_index(drop=True)\n",
    "    n_rows = list(range(min_periods, size, size // steps)) + [size]\n",
    "    \n",
    "    # just replacing a call to `elast` by a call to `elast_ci`\n",
    "    return np.array([elast_ci(ordered_df.head(rows), y, t)  for rows in n_rows])"
   ]
  },
  {
   "cell_type": "code",
   "execution_count": null,
   "metadata": {},
   "outputs": [],
   "source": [
    "# siguientes tasks:\n",
    "# - Agregar nuevos argumentos a las funciones y documentación de las funciones\n",
    "# - Modificar cumulative effect curves con nuevos cambios\n",
    "# - Crear archivo aparte de \"confidence intervals/errors\" (effects.py) y ahí poner linear_ci\n",
    "# - Crear archivo aparte de \"curves\" (curves.py) y ahí poner confidence_interval_curve\n",
    "# - Crear un nuevo tipo de variable (?, ErrorFnType) con el mismo signature de EffectFnType\n",
    "# - Agregar tests con los ejemplos de este notebook\n",
    "# - Modificar índice de la documentación\n",
    "# - Abrir PR\n",
    "#   - agregar comentarios:\n",
    "#     1. discusión de los tipos de las funciones: tienen el mismo signature, podemos pensar en algo más genérico?\n",
    "#     2. confidence_interval_curve y cumulative_effect_curve hacen lo mismo, podemos pensar en algo más genérico?\n",
    "#     3. cómo atacar la vulnerabilidad de que las curvas y los errores son arreglos que tienen que ser del mismo tamaño.\n",
    "#        Ahorita lo estamos hard-coding pero existirá alguna mejor manera de lidiar con esto?"
   ]
  }
 ],
 "metadata": {
  "kernelspec": {
   "display_name": "Python 3",
   "language": "python",
   "name": "python3"
  },
  "language_info": {
   "codemirror_mode": {
    "name": "ipython",
    "version": 3
   },
   "file_extension": ".py",
   "mimetype": "text/x-python",
   "name": "python",
   "nbconvert_exporter": "python",
   "pygments_lexer": "ipython3",
   "version": "3.7.7"
  }
 },
 "nbformat": 4,
 "nbformat_minor": 4
}
